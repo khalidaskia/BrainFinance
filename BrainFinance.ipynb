{
 "cells": [
  {
   "cell_type": "code",
   "execution_count": 119,
   "id": "d2eac4fe",
   "metadata": {},
   "outputs": [],
   "source": [
    "import pandas as pd\n",
    "import numpy as np\n",
    "import matplotlib.pyplot as plt\n",
    "import seaborn as sns\n",
    "import copy\n",
    "\n",
    "from sklearn.model_selection import train_test_split, StratifiedShuffleSplit\n",
    "\n",
    "from sklearn.decomposition import PCA\n",
    "from sklearn.manifold import TSNE\n",
    "\n",
    "from sklearn.feature_selection import SelectKBest\n",
    "from sklearn.feature_selection import f_regression\n",
    "from sklearn.feature_selection import mutual_info_regression\n",
    "from sklearn.model_selection import cross_val_score\n",
    "from sklearn.model_selection import RepeatedKFold\n",
    "from sklearn.linear_model import LinearRegression\n",
    "from sklearn.metrics import mean_squared_error, r2_score\n",
    "\n",
    "from pandas_profiling import ProfileReport\n",
    "\n",
    "import xgboost as xgb\n",
    "\n",
    "from hyperopt import STATUS_OK, hp, tpe, fmin, space_eval, Trials"
   ]
  },
  {
   "cell_type": "code",
   "execution_count": 120,
   "id": "48e883c5",
   "metadata": {},
   "outputs": [],
   "source": [
    "# read data\n",
    "\n",
    "data = pd.read_csv(\"data.csv\")"
   ]
  },
  {
   "cell_type": "code",
   "execution_count": 121,
   "id": "1285fc4d",
   "metadata": {},
   "outputs": [
    {
     "data": {
      "text/html": [
       "<div>\n",
       "<style scoped>\n",
       "    .dataframe tbody tr th:only-of-type {\n",
       "        vertical-align: middle;\n",
       "    }\n",
       "\n",
       "    .dataframe tbody tr th {\n",
       "        vertical-align: top;\n",
       "    }\n",
       "\n",
       "    .dataframe thead th {\n",
       "        text-align: right;\n",
       "    }\n",
       "</style>\n",
       "<table border=\"1\" class=\"dataframe\">\n",
       "  <thead>\n",
       "    <tr style=\"text-align: right;\">\n",
       "      <th></th>\n",
       "      <th>target</th>\n",
       "      <th>v_cont_0</th>\n",
       "      <th>v_cat_0</th>\n",
       "      <th>v_cat_1</th>\n",
       "      <th>v_cat_2</th>\n",
       "      <th>v_cat_3</th>\n",
       "      <th>v_cont_5</th>\n",
       "      <th>v_cont_6</th>\n",
       "      <th>v_cont_7</th>\n",
       "      <th>v_cont_8</th>\n",
       "      <th>...</th>\n",
       "      <th>v_cont_117</th>\n",
       "      <th>v_cont_118</th>\n",
       "      <th>v_cont_119</th>\n",
       "      <th>v_cont_120</th>\n",
       "      <th>v_cont_121</th>\n",
       "      <th>v_cont_122</th>\n",
       "      <th>v_cont_123</th>\n",
       "      <th>v_cont_124</th>\n",
       "      <th>v_cont_125</th>\n",
       "      <th>v_cont_126</th>\n",
       "    </tr>\n",
       "  </thead>\n",
       "  <tbody>\n",
       "    <tr>\n",
       "      <th>0</th>\n",
       "      <td>0.20</td>\n",
       "      <td>8</td>\n",
       "      <td>NaN</td>\n",
       "      <td>NaN</td>\n",
       "      <td>Lakewoodcity</td>\n",
       "      <td>1</td>\n",
       "      <td>0.19</td>\n",
       "      <td>0.33</td>\n",
       "      <td>0.02</td>\n",
       "      <td>0.90</td>\n",
       "      <td>...</td>\n",
       "      <td>0.29</td>\n",
       "      <td>0.12</td>\n",
       "      <td>0.26</td>\n",
       "      <td>0.20</td>\n",
       "      <td>0.06</td>\n",
       "      <td>0.04</td>\n",
       "      <td>0.9</td>\n",
       "      <td>0.5</td>\n",
       "      <td>0.32</td>\n",
       "      <td>0.14</td>\n",
       "    </tr>\n",
       "    <tr>\n",
       "      <th>1</th>\n",
       "      <td>0.67</td>\n",
       "      <td>53</td>\n",
       "      <td>NaN</td>\n",
       "      <td>NaN</td>\n",
       "      <td>Tukwilacity</td>\n",
       "      <td>1</td>\n",
       "      <td>0.00</td>\n",
       "      <td>0.16</td>\n",
       "      <td>0.12</td>\n",
       "      <td>0.74</td>\n",
       "      <td>...</td>\n",
       "      <td>NaN</td>\n",
       "      <td>0.02</td>\n",
       "      <td>0.12</td>\n",
       "      <td>0.45</td>\n",
       "      <td>NaN</td>\n",
       "      <td>NaN</td>\n",
       "      <td>NaN</td>\n",
       "      <td>NaN</td>\n",
       "      <td>0.00</td>\n",
       "      <td>NaN</td>\n",
       "    </tr>\n",
       "    <tr>\n",
       "      <th>2</th>\n",
       "      <td>0.43</td>\n",
       "      <td>24</td>\n",
       "      <td>NaN</td>\n",
       "      <td>NaN</td>\n",
       "      <td>Aberdeentown</td>\n",
       "      <td>1</td>\n",
       "      <td>0.00</td>\n",
       "      <td>0.42</td>\n",
       "      <td>0.49</td>\n",
       "      <td>0.56</td>\n",
       "      <td>...</td>\n",
       "      <td>NaN</td>\n",
       "      <td>0.01</td>\n",
       "      <td>0.21</td>\n",
       "      <td>0.02</td>\n",
       "      <td>NaN</td>\n",
       "      <td>NaN</td>\n",
       "      <td>NaN</td>\n",
       "      <td>NaN</td>\n",
       "      <td>0.00</td>\n",
       "      <td>NaN</td>\n",
       "    </tr>\n",
       "    <tr>\n",
       "      <th>3</th>\n",
       "      <td>0.12</td>\n",
       "      <td>34</td>\n",
       "      <td>5.0</td>\n",
       "      <td>81440.0</td>\n",
       "      <td>Willingborotownship</td>\n",
       "      <td>1</td>\n",
       "      <td>0.04</td>\n",
       "      <td>0.77</td>\n",
       "      <td>1.00</td>\n",
       "      <td>0.08</td>\n",
       "      <td>...</td>\n",
       "      <td>NaN</td>\n",
       "      <td>0.02</td>\n",
       "      <td>0.39</td>\n",
       "      <td>0.28</td>\n",
       "      <td>NaN</td>\n",
       "      <td>NaN</td>\n",
       "      <td>NaN</td>\n",
       "      <td>NaN</td>\n",
       "      <td>0.00</td>\n",
       "      <td>NaN</td>\n",
       "    </tr>\n",
       "    <tr>\n",
       "      <th>4</th>\n",
       "      <td>0.03</td>\n",
       "      <td>42</td>\n",
       "      <td>95.0</td>\n",
       "      <td>6096.0</td>\n",
       "      <td>Bethlehemtownship</td>\n",
       "      <td>1</td>\n",
       "      <td>0.01</td>\n",
       "      <td>0.55</td>\n",
       "      <td>0.02</td>\n",
       "      <td>0.95</td>\n",
       "      <td>...</td>\n",
       "      <td>NaN</td>\n",
       "      <td>0.04</td>\n",
       "      <td>0.09</td>\n",
       "      <td>0.02</td>\n",
       "      <td>NaN</td>\n",
       "      <td>NaN</td>\n",
       "      <td>NaN</td>\n",
       "      <td>NaN</td>\n",
       "      <td>0.00</td>\n",
       "      <td>NaN</td>\n",
       "    </tr>\n",
       "  </tbody>\n",
       "</table>\n",
       "<p>5 rows × 128 columns</p>\n",
       "</div>"
      ],
      "text/plain": [
       "   target  v_cont_0  v_cat_0  v_cat_1              v_cat_2  v_cat_3  v_cont_5  \\\n",
       "0    0.20         8      NaN      NaN         Lakewoodcity        1      0.19   \n",
       "1    0.67        53      NaN      NaN          Tukwilacity        1      0.00   \n",
       "2    0.43        24      NaN      NaN         Aberdeentown        1      0.00   \n",
       "3    0.12        34      5.0  81440.0  Willingborotownship        1      0.04   \n",
       "4    0.03        42     95.0   6096.0    Bethlehemtownship        1      0.01   \n",
       "\n",
       "   v_cont_6  v_cont_7  v_cont_8  ...  v_cont_117  v_cont_118  v_cont_119  \\\n",
       "0      0.33      0.02      0.90  ...        0.29        0.12        0.26   \n",
       "1      0.16      0.12      0.74  ...         NaN        0.02        0.12   \n",
       "2      0.42      0.49      0.56  ...         NaN        0.01        0.21   \n",
       "3      0.77      1.00      0.08  ...         NaN        0.02        0.39   \n",
       "4      0.55      0.02      0.95  ...         NaN        0.04        0.09   \n",
       "\n",
       "   v_cont_120  v_cont_121  v_cont_122  v_cont_123  v_cont_124  v_cont_125  \\\n",
       "0        0.20        0.06        0.04         0.9         0.5        0.32   \n",
       "1        0.45         NaN         NaN         NaN         NaN        0.00   \n",
       "2        0.02         NaN         NaN         NaN         NaN        0.00   \n",
       "3        0.28         NaN         NaN         NaN         NaN        0.00   \n",
       "4        0.02         NaN         NaN         NaN         NaN        0.00   \n",
       "\n",
       "   v_cont_126  \n",
       "0        0.14  \n",
       "1         NaN  \n",
       "2         NaN  \n",
       "3         NaN  \n",
       "4         NaN  \n",
       "\n",
       "[5 rows x 128 columns]"
      ]
     },
     "execution_count": 121,
     "metadata": {},
     "output_type": "execute_result"
    }
   ],
   "source": [
    "data.head()"
   ]
  },
  {
   "cell_type": "code",
   "execution_count": 122,
   "id": "f4467aa2",
   "metadata": {},
   "outputs": [],
   "source": [
    "len_df = len(data)"
   ]
  },
  {
   "cell_type": "code",
   "execution_count": 123,
   "id": "38aa6d71",
   "metadata": {},
   "outputs": [
    {
     "data": {
      "text/plain": [
       "1994"
      ]
     },
     "execution_count": 123,
     "metadata": {},
     "output_type": "execute_result"
    }
   ],
   "source": [
    "len_df"
   ]
  },
  {
   "cell_type": "code",
   "execution_count": null,
   "id": "7522c847",
   "metadata": {},
   "outputs": [],
   "source": []
  },
  {
   "cell_type": "code",
   "execution_count": 124,
   "id": "1f63b873",
   "metadata": {},
   "outputs": [],
   "source": [
    "profile = ProfileReport(data, title=\"Pandas Profiling Report\", minimal=True)"
   ]
  },
  {
   "cell_type": "code",
   "execution_count": null,
   "id": "35fc8715",
   "metadata": {},
   "outputs": [],
   "source": []
  },
  {
   "cell_type": "code",
   "execution_count": 125,
   "id": "a5c6734a",
   "metadata": {
    "scrolled": true
   },
   "outputs": [
    {
     "data": {
      "application/vnd.jupyter.widget-view+json": {
       "model_id": "c291da369c62489fba21a1db84845a91",
       "version_major": 2,
       "version_minor": 0
      },
      "text/plain": [
       "Summarize dataset:   0%|          | 0/5 [00:00<?, ?it/s]"
      ]
     },
     "metadata": {},
     "output_type": "display_data"
    },
    {
     "data": {
      "application/vnd.jupyter.widget-view+json": {
       "model_id": "8447678fbd4f4cfebe591e5947698edd",
       "version_major": 2,
       "version_minor": 0
      },
      "text/plain": [
       "Generate report structure:   0%|          | 0/1 [00:00<?, ?it/s]"
      ]
     },
     "metadata": {},
     "output_type": "display_data"
    },
    {
     "data": {
      "application/vnd.jupyter.widget-view+json": {
       "model_id": "",
       "version_major": 2,
       "version_minor": 0
      },
      "text/plain": [
       "Render widgets:   0%|          | 0/1 [00:00<?, ?it/s]"
      ]
     },
     "metadata": {},
     "output_type": "display_data"
    },
    {
     "data": {
      "application/vnd.jupyter.widget-view+json": {
       "model_id": "5e496fd8fdd14aedb849b9068876b06f",
       "version_major": 2,
       "version_minor": 0
      },
      "text/plain": [
       "VBox(children=(Tab(children=(Tab(children=(GridBox(children=(VBox(children=(GridspecLayout(children=(HTML(valu…"
      ]
     },
     "metadata": {},
     "output_type": "display_data"
    }
   ],
   "source": [
    "profile.to_widgets()"
   ]
  },
  {
   "cell_type": "code",
   "execution_count": 9,
   "id": "68b57ab6",
   "metadata": {},
   "outputs": [],
   "source": [
    "df = copy.copy(data)"
   ]
  },
  {
   "cell_type": "code",
   "execution_count": 10,
   "id": "46774552",
   "metadata": {},
   "outputs": [],
   "source": [
    "# drop the high cardinality variable\n",
    "df = df.drop(\"v_cat_2\", axis=1)"
   ]
  },
  {
   "cell_type": "code",
   "execution_count": null,
   "id": "8b449298",
   "metadata": {},
   "outputs": [],
   "source": []
  },
  {
   "cell_type": "code",
   "execution_count": 11,
   "id": "675f450f",
   "metadata": {},
   "outputs": [],
   "source": [
    "missing_df = df.isnull().sum(axis = 0)"
   ]
  },
  {
   "cell_type": "code",
   "execution_count": 12,
   "id": "ec9e8cb0",
   "metadata": {},
   "outputs": [],
   "source": [
    "missing_df = missing_df.reset_index()"
   ]
  },
  {
   "cell_type": "code",
   "execution_count": 13,
   "id": "603dc953",
   "metadata": {},
   "outputs": [],
   "source": [
    "missing_df = pd.DataFrame(missing_df)"
   ]
  },
  {
   "cell_type": "code",
   "execution_count": 14,
   "id": "717ef3f2",
   "metadata": {},
   "outputs": [],
   "source": [
    "missing_df = missing_df.rename(columns={\"index\": \"col_name\", 0: \"nb_missing\"})"
   ]
  },
  {
   "cell_type": "code",
   "execution_count": 15,
   "id": "f55a5c1c",
   "metadata": {},
   "outputs": [
    {
     "data": {
      "text/html": [
       "<div>\n",
       "<style scoped>\n",
       "    .dataframe tbody tr th:only-of-type {\n",
       "        vertical-align: middle;\n",
       "    }\n",
       "\n",
       "    .dataframe tbody tr th {\n",
       "        vertical-align: top;\n",
       "    }\n",
       "\n",
       "    .dataframe thead th {\n",
       "        text-align: right;\n",
       "    }\n",
       "</style>\n",
       "<table border=\"1\" class=\"dataframe\">\n",
       "  <thead>\n",
       "    <tr style=\"text-align: right;\">\n",
       "      <th></th>\n",
       "      <th>col_name</th>\n",
       "      <th>nb_missing</th>\n",
       "    </tr>\n",
       "  </thead>\n",
       "  <tbody>\n",
       "    <tr>\n",
       "      <th>0</th>\n",
       "      <td>target</td>\n",
       "      <td>0</td>\n",
       "    </tr>\n",
       "    <tr>\n",
       "      <th>1</th>\n",
       "      <td>v_cont_0</td>\n",
       "      <td>0</td>\n",
       "    </tr>\n",
       "    <tr>\n",
       "      <th>2</th>\n",
       "      <td>v_cat_0</td>\n",
       "      <td>1174</td>\n",
       "    </tr>\n",
       "    <tr>\n",
       "      <th>3</th>\n",
       "      <td>v_cat_1</td>\n",
       "      <td>1177</td>\n",
       "    </tr>\n",
       "    <tr>\n",
       "      <th>4</th>\n",
       "      <td>v_cat_3</td>\n",
       "      <td>0</td>\n",
       "    </tr>\n",
       "    <tr>\n",
       "      <th>...</th>\n",
       "      <td>...</td>\n",
       "      <td>...</td>\n",
       "    </tr>\n",
       "    <tr>\n",
       "      <th>122</th>\n",
       "      <td>v_cont_122</td>\n",
       "      <td>1675</td>\n",
       "    </tr>\n",
       "    <tr>\n",
       "      <th>123</th>\n",
       "      <td>v_cont_123</td>\n",
       "      <td>1675</td>\n",
       "    </tr>\n",
       "    <tr>\n",
       "      <th>124</th>\n",
       "      <td>v_cont_124</td>\n",
       "      <td>1675</td>\n",
       "    </tr>\n",
       "    <tr>\n",
       "      <th>125</th>\n",
       "      <td>v_cont_125</td>\n",
       "      <td>0</td>\n",
       "    </tr>\n",
       "    <tr>\n",
       "      <th>126</th>\n",
       "      <td>v_cont_126</td>\n",
       "      <td>1675</td>\n",
       "    </tr>\n",
       "  </tbody>\n",
       "</table>\n",
       "<p>127 rows × 2 columns</p>\n",
       "</div>"
      ],
      "text/plain": [
       "       col_name  nb_missing\n",
       "0        target           0\n",
       "1      v_cont_0           0\n",
       "2       v_cat_0        1174\n",
       "3       v_cat_1        1177\n",
       "4       v_cat_3           0\n",
       "..          ...         ...\n",
       "122  v_cont_122        1675\n",
       "123  v_cont_123        1675\n",
       "124  v_cont_124        1675\n",
       "125  v_cont_125           0\n",
       "126  v_cont_126        1675\n",
       "\n",
       "[127 rows x 2 columns]"
      ]
     },
     "execution_count": 15,
     "metadata": {},
     "output_type": "execute_result"
    }
   ],
   "source": [
    "missing_df"
   ]
  },
  {
   "cell_type": "code",
   "execution_count": 16,
   "id": "73b484fa",
   "metadata": {},
   "outputs": [],
   "source": [
    "missing_df[\"missing_percentage\"] = missing_df[\"nb_missing\"] * 100 /len_df"
   ]
  },
  {
   "cell_type": "code",
   "execution_count": 17,
   "id": "7db3975b",
   "metadata": {},
   "outputs": [
    {
     "data": {
      "text/html": [
       "<div>\n",
       "<style scoped>\n",
       "    .dataframe tbody tr th:only-of-type {\n",
       "        vertical-align: middle;\n",
       "    }\n",
       "\n",
       "    .dataframe tbody tr th {\n",
       "        vertical-align: top;\n",
       "    }\n",
       "\n",
       "    .dataframe thead th {\n",
       "        text-align: right;\n",
       "    }\n",
       "</style>\n",
       "<table border=\"1\" class=\"dataframe\">\n",
       "  <thead>\n",
       "    <tr style=\"text-align: right;\">\n",
       "      <th></th>\n",
       "      <th>col_name</th>\n",
       "      <th>nb_missing</th>\n",
       "      <th>missing_percentage</th>\n",
       "    </tr>\n",
       "  </thead>\n",
       "  <tbody>\n",
       "    <tr>\n",
       "      <th>0</th>\n",
       "      <td>target</td>\n",
       "      <td>0</td>\n",
       "      <td>0.000000</td>\n",
       "    </tr>\n",
       "    <tr>\n",
       "      <th>1</th>\n",
       "      <td>v_cont_0</td>\n",
       "      <td>0</td>\n",
       "      <td>0.000000</td>\n",
       "    </tr>\n",
       "    <tr>\n",
       "      <th>2</th>\n",
       "      <td>v_cat_0</td>\n",
       "      <td>1174</td>\n",
       "      <td>58.876630</td>\n",
       "    </tr>\n",
       "    <tr>\n",
       "      <th>3</th>\n",
       "      <td>v_cat_1</td>\n",
       "      <td>1177</td>\n",
       "      <td>59.027081</td>\n",
       "    </tr>\n",
       "    <tr>\n",
       "      <th>4</th>\n",
       "      <td>v_cat_3</td>\n",
       "      <td>0</td>\n",
       "      <td>0.000000</td>\n",
       "    </tr>\n",
       "    <tr>\n",
       "      <th>...</th>\n",
       "      <td>...</td>\n",
       "      <td>...</td>\n",
       "      <td>...</td>\n",
       "    </tr>\n",
       "    <tr>\n",
       "      <th>122</th>\n",
       "      <td>v_cont_122</td>\n",
       "      <td>1675</td>\n",
       "      <td>84.002006</td>\n",
       "    </tr>\n",
       "    <tr>\n",
       "      <th>123</th>\n",
       "      <td>v_cont_123</td>\n",
       "      <td>1675</td>\n",
       "      <td>84.002006</td>\n",
       "    </tr>\n",
       "    <tr>\n",
       "      <th>124</th>\n",
       "      <td>v_cont_124</td>\n",
       "      <td>1675</td>\n",
       "      <td>84.002006</td>\n",
       "    </tr>\n",
       "    <tr>\n",
       "      <th>125</th>\n",
       "      <td>v_cont_125</td>\n",
       "      <td>0</td>\n",
       "      <td>0.000000</td>\n",
       "    </tr>\n",
       "    <tr>\n",
       "      <th>126</th>\n",
       "      <td>v_cont_126</td>\n",
       "      <td>1675</td>\n",
       "      <td>84.002006</td>\n",
       "    </tr>\n",
       "  </tbody>\n",
       "</table>\n",
       "<p>127 rows × 3 columns</p>\n",
       "</div>"
      ],
      "text/plain": [
       "       col_name  nb_missing  missing_percentage\n",
       "0        target           0            0.000000\n",
       "1      v_cont_0           0            0.000000\n",
       "2       v_cat_0        1174           58.876630\n",
       "3       v_cat_1        1177           59.027081\n",
       "4       v_cat_3           0            0.000000\n",
       "..          ...         ...                 ...\n",
       "122  v_cont_122        1675           84.002006\n",
       "123  v_cont_123        1675           84.002006\n",
       "124  v_cont_124        1675           84.002006\n",
       "125  v_cont_125           0            0.000000\n",
       "126  v_cont_126        1675           84.002006\n",
       "\n",
       "[127 rows x 3 columns]"
      ]
     },
     "execution_count": 17,
     "metadata": {},
     "output_type": "execute_result"
    }
   ],
   "source": [
    "missing_df"
   ]
  },
  {
   "cell_type": "code",
   "execution_count": 18,
   "id": "e70123f1",
   "metadata": {},
   "outputs": [
    {
     "data": {
      "text/plain": [
       "count    127.000000\n",
       "mean      15.480299\n",
       "std       32.336995\n",
       "min        0.000000\n",
       "25%        0.000000\n",
       "50%        0.000000\n",
       "75%        0.000000\n",
       "max       84.002006\n",
       "Name: missing_percentage, dtype: float64"
      ]
     },
     "execution_count": 18,
     "metadata": {},
     "output_type": "execute_result"
    }
   ],
   "source": [
    "missing_df[\"missing_percentage\"].describe()"
   ]
  },
  {
   "cell_type": "code",
   "execution_count": 19,
   "id": "cb440b39",
   "metadata": {},
   "outputs": [],
   "source": [
    "# get variabbles withe more than 80% missing values\n",
    "\n",
    "missing_values_80 = missing_df.where(missing_df[\"missing_percentage\"] > 80).dropna()"
   ]
  },
  {
   "cell_type": "code",
   "execution_count": 20,
   "id": "765d1294",
   "metadata": {},
   "outputs": [],
   "source": [
    "missing_values_80_colname= missing_values_80[\"col_name\"].tolist()"
   ]
  },
  {
   "cell_type": "code",
   "execution_count": 21,
   "id": "49f55f8e",
   "metadata": {},
   "outputs": [
    {
     "data": {
      "text/plain": [
       "['v_cont_101',\n",
       " 'v_cont_102',\n",
       " 'v_cont_103',\n",
       " 'v_cont_104',\n",
       " 'v_cont_105',\n",
       " 'v_cont_106',\n",
       " 'v_cont_107',\n",
       " 'v_cont_108',\n",
       " 'v_cont_109',\n",
       " 'v_cont_110',\n",
       " 'v_cont_111',\n",
       " 'v_cont_112',\n",
       " 'v_cont_113',\n",
       " 'v_cont_114',\n",
       " 'v_cont_115',\n",
       " 'v_cont_116',\n",
       " 'v_cont_117',\n",
       " 'v_cont_121',\n",
       " 'v_cont_122',\n",
       " 'v_cont_123',\n",
       " 'v_cont_124',\n",
       " 'v_cont_126']"
      ]
     },
     "execution_count": 21,
     "metadata": {},
     "output_type": "execute_result"
    }
   ],
   "source": [
    "missing_values_80_colname"
   ]
  },
  {
   "cell_type": "code",
   "execution_count": 22,
   "id": "d2cc48e7",
   "metadata": {},
   "outputs": [],
   "source": [
    "df = df.drop(missing_values_80_colname, axis=1)"
   ]
  },
  {
   "cell_type": "code",
   "execution_count": 23,
   "id": "23ec7697",
   "metadata": {},
   "outputs": [
    {
     "data": {
      "text/plain": [
       "(1994, 105)"
      ]
     },
     "execution_count": 23,
     "metadata": {},
     "output_type": "execute_result"
    }
   ],
   "source": [
    "df.shape"
   ]
  },
  {
   "cell_type": "code",
   "execution_count": 24,
   "id": "9aab0d0c",
   "metadata": {},
   "outputs": [
    {
     "data": {
      "text/plain": [
       "(1994, 105)"
      ]
     },
     "execution_count": 24,
     "metadata": {},
     "output_type": "execute_result"
    }
   ],
   "source": [
    "df.drop_duplicates().shape"
   ]
  },
  {
   "cell_type": "code",
   "execution_count": 25,
   "id": "0b814d9d",
   "metadata": {},
   "outputs": [],
   "source": [
    "# put the target at the end \n",
    "\n",
    "last_column = df.pop('target')\n",
    "\n",
    "df.insert(104, 'target', last_column)"
   ]
  },
  {
   "cell_type": "code",
   "execution_count": null,
   "id": "afe45201",
   "metadata": {},
   "outputs": [],
   "source": []
  },
  {
   "cell_type": "code",
   "execution_count": 26,
   "id": "a62b205c",
   "metadata": {},
   "outputs": [
    {
     "data": {
      "text/html": [
       "<div>\n",
       "<style scoped>\n",
       "    .dataframe tbody tr th:only-of-type {\n",
       "        vertical-align: middle;\n",
       "    }\n",
       "\n",
       "    .dataframe tbody tr th {\n",
       "        vertical-align: top;\n",
       "    }\n",
       "\n",
       "    .dataframe thead th {\n",
       "        text-align: right;\n",
       "    }\n",
       "</style>\n",
       "<table border=\"1\" class=\"dataframe\">\n",
       "  <thead>\n",
       "    <tr style=\"text-align: right;\">\n",
       "      <th></th>\n",
       "      <th>v_cont_0</th>\n",
       "      <th>v_cat_0</th>\n",
       "      <th>v_cat_1</th>\n",
       "      <th>v_cat_3</th>\n",
       "      <th>v_cont_5</th>\n",
       "      <th>v_cont_6</th>\n",
       "      <th>v_cont_7</th>\n",
       "      <th>v_cont_8</th>\n",
       "      <th>v_cont_9</th>\n",
       "      <th>v_cont_10</th>\n",
       "      <th>...</th>\n",
       "      <th>v_cont_96</th>\n",
       "      <th>v_cont_97</th>\n",
       "      <th>v_cont_98</th>\n",
       "      <th>v_cont_99</th>\n",
       "      <th>v_cont_100</th>\n",
       "      <th>v_cont_118</th>\n",
       "      <th>v_cont_119</th>\n",
       "      <th>v_cont_120</th>\n",
       "      <th>v_cont_125</th>\n",
       "      <th>target</th>\n",
       "    </tr>\n",
       "  </thead>\n",
       "  <tbody>\n",
       "    <tr>\n",
       "      <th>0</th>\n",
       "      <td>8</td>\n",
       "      <td>NaN</td>\n",
       "      <td>NaN</td>\n",
       "      <td>1</td>\n",
       "      <td>0.19</td>\n",
       "      <td>0.33</td>\n",
       "      <td>0.02</td>\n",
       "      <td>0.90</td>\n",
       "      <td>0.12</td>\n",
       "      <td>0.17</td>\n",
       "      <td>...</td>\n",
       "      <td>0.12</td>\n",
       "      <td>0.42</td>\n",
       "      <td>0.50</td>\n",
       "      <td>0.51</td>\n",
       "      <td>0.64</td>\n",
       "      <td>0.12</td>\n",
       "      <td>0.26</td>\n",
       "      <td>0.20</td>\n",
       "      <td>0.32</td>\n",
       "      <td>0.20</td>\n",
       "    </tr>\n",
       "    <tr>\n",
       "      <th>1</th>\n",
       "      <td>53</td>\n",
       "      <td>NaN</td>\n",
       "      <td>NaN</td>\n",
       "      <td>1</td>\n",
       "      <td>0.00</td>\n",
       "      <td>0.16</td>\n",
       "      <td>0.12</td>\n",
       "      <td>0.74</td>\n",
       "      <td>0.45</td>\n",
       "      <td>0.07</td>\n",
       "      <td>...</td>\n",
       "      <td>0.21</td>\n",
       "      <td>0.50</td>\n",
       "      <td>0.34</td>\n",
       "      <td>0.60</td>\n",
       "      <td>0.52</td>\n",
       "      <td>0.02</td>\n",
       "      <td>0.12</td>\n",
       "      <td>0.45</td>\n",
       "      <td>0.00</td>\n",
       "      <td>0.67</td>\n",
       "    </tr>\n",
       "    <tr>\n",
       "      <th>2</th>\n",
       "      <td>24</td>\n",
       "      <td>NaN</td>\n",
       "      <td>NaN</td>\n",
       "      <td>1</td>\n",
       "      <td>0.00</td>\n",
       "      <td>0.42</td>\n",
       "      <td>0.49</td>\n",
       "      <td>0.56</td>\n",
       "      <td>0.17</td>\n",
       "      <td>0.04</td>\n",
       "      <td>...</td>\n",
       "      <td>0.14</td>\n",
       "      <td>0.49</td>\n",
       "      <td>0.54</td>\n",
       "      <td>0.67</td>\n",
       "      <td>0.56</td>\n",
       "      <td>0.01</td>\n",
       "      <td>0.21</td>\n",
       "      <td>0.02</td>\n",
       "      <td>0.00</td>\n",
       "      <td>0.43</td>\n",
       "    </tr>\n",
       "    <tr>\n",
       "      <th>3</th>\n",
       "      <td>34</td>\n",
       "      <td>5.0</td>\n",
       "      <td>81440.0</td>\n",
       "      <td>1</td>\n",
       "      <td>0.04</td>\n",
       "      <td>0.77</td>\n",
       "      <td>1.00</td>\n",
       "      <td>0.08</td>\n",
       "      <td>0.12</td>\n",
       "      <td>0.10</td>\n",
       "      <td>...</td>\n",
       "      <td>0.19</td>\n",
       "      <td>0.30</td>\n",
       "      <td>0.73</td>\n",
       "      <td>0.64</td>\n",
       "      <td>0.65</td>\n",
       "      <td>0.02</td>\n",
       "      <td>0.39</td>\n",
       "      <td>0.28</td>\n",
       "      <td>0.00</td>\n",
       "      <td>0.12</td>\n",
       "    </tr>\n",
       "    <tr>\n",
       "      <th>4</th>\n",
       "      <td>42</td>\n",
       "      <td>95.0</td>\n",
       "      <td>6096.0</td>\n",
       "      <td>1</td>\n",
       "      <td>0.01</td>\n",
       "      <td>0.55</td>\n",
       "      <td>0.02</td>\n",
       "      <td>0.95</td>\n",
       "      <td>0.09</td>\n",
       "      <td>0.05</td>\n",
       "      <td>...</td>\n",
       "      <td>0.11</td>\n",
       "      <td>0.72</td>\n",
       "      <td>0.64</td>\n",
       "      <td>0.61</td>\n",
       "      <td>0.53</td>\n",
       "      <td>0.04</td>\n",
       "      <td>0.09</td>\n",
       "      <td>0.02</td>\n",
       "      <td>0.00</td>\n",
       "      <td>0.03</td>\n",
       "    </tr>\n",
       "    <tr>\n",
       "      <th>...</th>\n",
       "      <td>...</td>\n",
       "      <td>...</td>\n",
       "      <td>...</td>\n",
       "      <td>...</td>\n",
       "      <td>...</td>\n",
       "      <td>...</td>\n",
       "      <td>...</td>\n",
       "      <td>...</td>\n",
       "      <td>...</td>\n",
       "      <td>...</td>\n",
       "      <td>...</td>\n",
       "      <td>...</td>\n",
       "      <td>...</td>\n",
       "      <td>...</td>\n",
       "      <td>...</td>\n",
       "      <td>...</td>\n",
       "      <td>...</td>\n",
       "      <td>...</td>\n",
       "      <td>...</td>\n",
       "      <td>...</td>\n",
       "      <td>...</td>\n",
       "    </tr>\n",
       "    <tr>\n",
       "      <th>1989</th>\n",
       "      <td>12</td>\n",
       "      <td>NaN</td>\n",
       "      <td>NaN</td>\n",
       "      <td>10</td>\n",
       "      <td>0.01</td>\n",
       "      <td>0.40</td>\n",
       "      <td>0.10</td>\n",
       "      <td>0.87</td>\n",
       "      <td>0.12</td>\n",
       "      <td>0.16</td>\n",
       "      <td>...</td>\n",
       "      <td>0.22</td>\n",
       "      <td>0.28</td>\n",
       "      <td>0.34</td>\n",
       "      <td>0.48</td>\n",
       "      <td>0.39</td>\n",
       "      <td>0.01</td>\n",
       "      <td>0.28</td>\n",
       "      <td>0.05</td>\n",
       "      <td>0.00</td>\n",
       "      <td>0.09</td>\n",
       "    </tr>\n",
       "    <tr>\n",
       "      <th>1990</th>\n",
       "      <td>6</td>\n",
       "      <td>NaN</td>\n",
       "      <td>NaN</td>\n",
       "      <td>10</td>\n",
       "      <td>0.05</td>\n",
       "      <td>0.96</td>\n",
       "      <td>0.46</td>\n",
       "      <td>0.28</td>\n",
       "      <td>0.83</td>\n",
       "      <td>0.32</td>\n",
       "      <td>...</td>\n",
       "      <td>0.53</td>\n",
       "      <td>0.25</td>\n",
       "      <td>0.17</td>\n",
       "      <td>0.10</td>\n",
       "      <td>0.00</td>\n",
       "      <td>0.02</td>\n",
       "      <td>0.37</td>\n",
       "      <td>0.20</td>\n",
       "      <td>0.00</td>\n",
       "      <td>0.45</td>\n",
       "    </tr>\n",
       "    <tr>\n",
       "      <th>1991</th>\n",
       "      <td>9</td>\n",
       "      <td>9.0</td>\n",
       "      <td>80070.0</td>\n",
       "      <td>10</td>\n",
       "      <td>0.16</td>\n",
       "      <td>0.37</td>\n",
       "      <td>0.25</td>\n",
       "      <td>0.69</td>\n",
       "      <td>0.04</td>\n",
       "      <td>0.25</td>\n",
       "      <td>...</td>\n",
       "      <td>0.25</td>\n",
       "      <td>0.68</td>\n",
       "      <td>0.61</td>\n",
       "      <td>0.79</td>\n",
       "      <td>0.76</td>\n",
       "      <td>0.08</td>\n",
       "      <td>0.32</td>\n",
       "      <td>0.18</td>\n",
       "      <td>0.91</td>\n",
       "      <td>0.23</td>\n",
       "    </tr>\n",
       "    <tr>\n",
       "      <th>1992</th>\n",
       "      <td>25</td>\n",
       "      <td>17.0</td>\n",
       "      <td>72600.0</td>\n",
       "      <td>10</td>\n",
       "      <td>0.08</td>\n",
       "      <td>0.51</td>\n",
       "      <td>0.06</td>\n",
       "      <td>0.87</td>\n",
       "      <td>0.22</td>\n",
       "      <td>0.10</td>\n",
       "      <td>...</td>\n",
       "      <td>0.45</td>\n",
       "      <td>0.64</td>\n",
       "      <td>0.54</td>\n",
       "      <td>0.59</td>\n",
       "      <td>0.52</td>\n",
       "      <td>0.03</td>\n",
       "      <td>0.38</td>\n",
       "      <td>0.33</td>\n",
       "      <td>0.22</td>\n",
       "      <td>0.19</td>\n",
       "    </tr>\n",
       "    <tr>\n",
       "      <th>1993</th>\n",
       "      <td>6</td>\n",
       "      <td>NaN</td>\n",
       "      <td>NaN</td>\n",
       "      <td>10</td>\n",
       "      <td>0.20</td>\n",
       "      <td>0.78</td>\n",
       "      <td>0.14</td>\n",
       "      <td>0.46</td>\n",
       "      <td>0.24</td>\n",
       "      <td>0.77</td>\n",
       "      <td>...</td>\n",
       "      <td>0.68</td>\n",
       "      <td>0.50</td>\n",
       "      <td>0.34</td>\n",
       "      <td>0.35</td>\n",
       "      <td>0.68</td>\n",
       "      <td>0.11</td>\n",
       "      <td>0.30</td>\n",
       "      <td>0.05</td>\n",
       "      <td>1.00</td>\n",
       "      <td>0.48</td>\n",
       "    </tr>\n",
       "  </tbody>\n",
       "</table>\n",
       "<p>1994 rows × 105 columns</p>\n",
       "</div>"
      ],
      "text/plain": [
       "      v_cont_0  v_cat_0  v_cat_1  v_cat_3  v_cont_5  v_cont_6  v_cont_7  \\\n",
       "0            8      NaN      NaN        1      0.19      0.33      0.02   \n",
       "1           53      NaN      NaN        1      0.00      0.16      0.12   \n",
       "2           24      NaN      NaN        1      0.00      0.42      0.49   \n",
       "3           34      5.0  81440.0        1      0.04      0.77      1.00   \n",
       "4           42     95.0   6096.0        1      0.01      0.55      0.02   \n",
       "...        ...      ...      ...      ...       ...       ...       ...   \n",
       "1989        12      NaN      NaN       10      0.01      0.40      0.10   \n",
       "1990         6      NaN      NaN       10      0.05      0.96      0.46   \n",
       "1991         9      9.0  80070.0       10      0.16      0.37      0.25   \n",
       "1992        25     17.0  72600.0       10      0.08      0.51      0.06   \n",
       "1993         6      NaN      NaN       10      0.20      0.78      0.14   \n",
       "\n",
       "      v_cont_8  v_cont_9  v_cont_10  ...  v_cont_96  v_cont_97  v_cont_98  \\\n",
       "0         0.90      0.12       0.17  ...       0.12       0.42       0.50   \n",
       "1         0.74      0.45       0.07  ...       0.21       0.50       0.34   \n",
       "2         0.56      0.17       0.04  ...       0.14       0.49       0.54   \n",
       "3         0.08      0.12       0.10  ...       0.19       0.30       0.73   \n",
       "4         0.95      0.09       0.05  ...       0.11       0.72       0.64   \n",
       "...        ...       ...        ...  ...        ...        ...        ...   \n",
       "1989      0.87      0.12       0.16  ...       0.22       0.28       0.34   \n",
       "1990      0.28      0.83       0.32  ...       0.53       0.25       0.17   \n",
       "1991      0.69      0.04       0.25  ...       0.25       0.68       0.61   \n",
       "1992      0.87      0.22       0.10  ...       0.45       0.64       0.54   \n",
       "1993      0.46      0.24       0.77  ...       0.68       0.50       0.34   \n",
       "\n",
       "      v_cont_99  v_cont_100  v_cont_118  v_cont_119  v_cont_120  v_cont_125  \\\n",
       "0          0.51        0.64        0.12        0.26        0.20        0.32   \n",
       "1          0.60        0.52        0.02        0.12        0.45        0.00   \n",
       "2          0.67        0.56        0.01        0.21        0.02        0.00   \n",
       "3          0.64        0.65        0.02        0.39        0.28        0.00   \n",
       "4          0.61        0.53        0.04        0.09        0.02        0.00   \n",
       "...         ...         ...         ...         ...         ...         ...   \n",
       "1989       0.48        0.39        0.01        0.28        0.05        0.00   \n",
       "1990       0.10        0.00        0.02        0.37        0.20        0.00   \n",
       "1991       0.79        0.76        0.08        0.32        0.18        0.91   \n",
       "1992       0.59        0.52        0.03        0.38        0.33        0.22   \n",
       "1993       0.35        0.68        0.11        0.30        0.05        1.00   \n",
       "\n",
       "      target  \n",
       "0       0.20  \n",
       "1       0.67  \n",
       "2       0.43  \n",
       "3       0.12  \n",
       "4       0.03  \n",
       "...      ...  \n",
       "1989    0.09  \n",
       "1990    0.45  \n",
       "1991    0.23  \n",
       "1992    0.19  \n",
       "1993    0.48  \n",
       "\n",
       "[1994 rows x 105 columns]"
      ]
     },
     "execution_count": 26,
     "metadata": {},
     "output_type": "execute_result"
    }
   ],
   "source": [
    "df"
   ]
  },
  {
   "cell_type": "code",
   "execution_count": null,
   "id": "14742b54",
   "metadata": {},
   "outputs": [],
   "source": []
  },
  {
   "cell_type": "code",
   "execution_count": 27,
   "id": "acc92879",
   "metadata": {},
   "outputs": [],
   "source": [
    "# We split the data into train, validation and test sets\n",
    "# We first split as follows: set1 = 80% of the data and test set = 20% of the data\n",
    "# Then we split set1 into train set = 80% of set 1 and validation set = 20% of set 1"
   ]
  },
  {
   "cell_type": "code",
   "execution_count": 28,
   "id": "9eb38f10",
   "metadata": {},
   "outputs": [],
   "source": [
    "X_set1, X_test,y_set1,y_test = train_test_split(df.iloc[:, :-1],df[\"target\"],test_size =0.2)"
   ]
  },
  {
   "cell_type": "code",
   "execution_count": 29,
   "id": "fee6709c",
   "metadata": {},
   "outputs": [],
   "source": [
    "X_train, X_validation,y_train,y_validation = train_test_split(X_set1,y_set1,test_size =0.2)"
   ]
  },
  {
   "cell_type": "code",
   "execution_count": 34,
   "id": "fc6f096f",
   "metadata": {},
   "outputs": [
    {
     "name": "stdout",
     "output_type": "stream",
     "text": [
      "(1276, 104) (1276,)\n",
      "(319, 104) (319,)\n",
      "(399, 104) (399,)\n"
     ]
    }
   ],
   "source": [
    "print(X_train.shape, y_train.shape)\n",
    "print(X_validation.shape, y_validation.shape)\n",
    "print(X_test.shape, y_test.shape)"
   ]
  },
  {
   "cell_type": "code",
   "execution_count": null,
   "id": "a9e0d89d",
   "metadata": {},
   "outputs": [],
   "source": []
  },
  {
   "cell_type": "code",
   "execution_count": 35,
   "id": "2f2c0254",
   "metadata": {},
   "outputs": [],
   "source": [
    "########## Visualisation ###########"
   ]
  },
  {
   "cell_type": "code",
   "execution_count": 39,
   "id": "7070a6e1",
   "metadata": {},
   "outputs": [
    {
     "data": {
      "text/plain": [
       "<AxesSubplot:xlabel='x', ylabel='y'>"
      ]
     },
     "execution_count": 39,
     "metadata": {},
     "output_type": "execute_result"
    },
    {
     "data": {
      "image/png": "[encoded data removed]",
      "text/plain": [
       "<Figure size 432x288 with 1 Axes>"
      ]
     },
     "metadata": {
      "needs_background": "light"
     },
     "output_type": "display_data"
    }
   ],
   "source": [
    "%matplotlib inline\n",
    "tsne = TSNE()\n",
    "tsne_fit = tsne.fit_transform(X_train.dropna())\n",
    "tsne_pd = pd.DataFrame({\"x\": tsne_fit[:, 0], \"y\": tsne_fit[:,1]})\n",
    "sns.scatterplot(x=\"x\", y=\"y\", data=tsne_pd)\n"
   ]
  },
  {
   "cell_type": "code",
   "execution_count": 40,
   "id": "6b8ab022",
   "metadata": {},
   "outputs": [],
   "source": [
    "features = df.columns.drop(\"target\")"
   ]
  },
  {
   "cell_type": "code",
   "execution_count": 41,
   "id": "4195f4f8",
   "metadata": {},
   "outputs": [
    {
     "data": {
      "text/plain": [
       "Index(['v_cont_0', 'v_cat_0', 'v_cat_1', 'v_cat_3', 'v_cont_5', 'v_cont_6',\n",
       "       'v_cont_7', 'v_cont_8', 'v_cont_9', 'v_cont_10',\n",
       "       ...\n",
       "       'v_cont_95', 'v_cont_96', 'v_cont_97', 'v_cont_98', 'v_cont_99',\n",
       "       'v_cont_100', 'v_cont_118', 'v_cont_119', 'v_cont_120', 'v_cont_125'],\n",
       "      dtype='object', length=104)"
      ]
     },
     "execution_count": 41,
     "metadata": {},
     "output_type": "execute_result"
    }
   ],
   "source": [
    "features"
   ]
  },
  {
   "cell_type": "code",
   "execution_count": null,
   "id": "b7041203",
   "metadata": {},
   "outputs": [],
   "source": []
  },
  {
   "cell_type": "code",
   "execution_count": null,
   "id": "b4e817da",
   "metadata": {},
   "outputs": [],
   "source": []
  },
  {
   "cell_type": "code",
   "execution_count": 42,
   "id": "58b31bb8",
   "metadata": {},
   "outputs": [],
   "source": [
    "X_train = X_train.fillna(-1)"
   ]
  },
  {
   "cell_type": "code",
   "execution_count": null,
   "id": "760b71ab",
   "metadata": {},
   "outputs": [],
   "source": []
  },
  {
   "cell_type": "code",
   "execution_count": 43,
   "id": "925054b6",
   "metadata": {},
   "outputs": [],
   "source": [
    "####################### FEATURE SELECTION ####################"
   ]
  },
  {
   "cell_type": "code",
   "execution_count": 44,
   "id": "54754c24",
   "metadata": {},
   "outputs": [
    {
     "data": {
      "image/png": "[encoded data removed]",
      "text/plain": [
       "<Figure size 432x288 with 1 Axes>"
      ]
     },
     "metadata": {
      "needs_background": "light"
     },
     "output_type": "display_data"
    }
   ],
   "source": [
    "# feature selection\n",
    "f_selector = SelectKBest(score_func=mutual_info_regression, k='all')\n",
    "# learn relationship from training data\n",
    "f_selector.fit(X_train, y_train)\n",
    "# transform train input data\n",
    "X_train_fs = f_selector.transform(X_train)\n",
    "# transform test input data\n",
    "#X_test_fs = f_selector.transform(X_test)\n",
    "# Plot the scores for the features\n",
    "plt.bar([i for i in range(len(f_selector.scores_))], f_selector.scores_)\n",
    "plt.xlabel(\"feature index\")\n",
    "plt.ylabel(\"Estimated MI value\")\n",
    "plt.show()"
   ]
  },
  {
   "cell_type": "code",
   "execution_count": 45,
   "id": "13723a92",
   "metadata": {},
   "outputs": [],
   "source": [
    "# transform validation and test input data\n",
    "X_validation = X_validation.fillna(-1)\n",
    "X_test = X_test.fillna(-1)\n",
    "X_validation_fs = f_selector.transform(X_validation)\n",
    "X_test_fs = f_selector.transform(X_test)"
   ]
  },
  {
   "cell_type": "code",
   "execution_count": 46,
   "id": "d4307e5c",
   "metadata": {},
   "outputs": [
    {
     "data": {
      "text/plain": [
       "0.10994155191299887"
      ]
     },
     "execution_count": 46,
     "metadata": {},
     "output_type": "execute_result"
    }
   ],
   "source": [
    "f_selector.scores_.mean()"
   ]
  },
  {
   "cell_type": "code",
   "execution_count": 47,
   "id": "7e98f736",
   "metadata": {},
   "outputs": [
    {
     "data": {
      "text/plain": [
       "0.442065130655827"
      ]
     },
     "execution_count": 47,
     "metadata": {},
     "output_type": "execute_result"
    }
   ],
   "source": [
    "f_selector.scores_.max()"
   ]
  },
  {
   "cell_type": "code",
   "execution_count": 48,
   "id": "c457772a",
   "metadata": {},
   "outputs": [
    {
     "data": {
      "text/plain": [
       "0.0"
      ]
     },
     "execution_count": 48,
     "metadata": {},
     "output_type": "execute_result"
    }
   ],
   "source": [
    "f_selector.scores_.min()"
   ]
  },
  {
   "cell_type": "code",
   "execution_count": 49,
   "id": "a59738f0",
   "metadata": {},
   "outputs": [
    {
     "data": {
      "text/plain": [
       "0.1032884487690435"
      ]
     },
     "execution_count": 49,
     "metadata": {},
     "output_type": "execute_result"
    }
   ],
   "source": [
    "f_selector.scores_.std(ddof=1)"
   ]
  },
  {
   "cell_type": "code",
   "execution_count": 50,
   "id": "132474cf",
   "metadata": {},
   "outputs": [],
   "source": [
    "# indice of features whoch MI >= 0.1\n",
    "\n",
    "feat_selected_idx = [i for i in range(len(f_selector.scores_)) if f_selector.scores_[i] >= 0.1]"
   ]
  },
  {
   "cell_type": "code",
   "execution_count": 51,
   "id": "5c20b971",
   "metadata": {},
   "outputs": [
    {
     "data": {
      "text/plain": [
       "41"
      ]
     },
     "execution_count": 51,
     "metadata": {},
     "output_type": "execute_result"
    }
   ],
   "source": [
    "len(feat_selected_idx)"
   ]
  },
  {
   "cell_type": "code",
   "execution_count": 52,
   "id": "c02e274b",
   "metadata": {},
   "outputs": [],
   "source": [
    "feat_selected = features[feat_selected_idx]"
   ]
  },
  {
   "cell_type": "code",
   "execution_count": 53,
   "id": "cb7ea793",
   "metadata": {},
   "outputs": [
    {
     "data": {
      "text/plain": [
       "Index(['v_cont_0', 'v_cat_0', 'v_cont_7', 'v_cont_8', 'v_cont_10', 'v_cont_15',\n",
       "       'v_cont_17', 'v_cont_20', 'v_cont_22', 'v_cont_24', 'v_cont_27',\n",
       "       'v_cont_30', 'v_cont_32', 'v_cont_33', 'v_cont_34', 'v_cont_35',\n",
       "       'v_cont_37', 'v_cont_43', 'v_cont_45', 'v_cont_46', 'v_cont_48',\n",
       "       'v_cont_49', 'v_cont_50', 'v_cont_51', 'v_cont_54', 'v_cont_55',\n",
       "       'v_cont_56', 'v_cont_60', 'v_cont_65', 'v_cont_67', 'v_cont_68',\n",
       "       'v_cont_72', 'v_cont_73', 'v_cont_74', 'v_cont_76', 'v_cont_78',\n",
       "       'v_cont_79', 'v_cont_82', 'v_cont_88', 'v_cont_94', 'v_cont_95'],\n",
       "      dtype='object')"
      ]
     },
     "execution_count": 53,
     "metadata": {},
     "output_type": "execute_result"
    }
   ],
   "source": [
    "feat_selected"
   ]
  },
  {
   "cell_type": "code",
   "execution_count": null,
   "id": "c23865f9",
   "metadata": {},
   "outputs": [],
   "source": []
  },
  {
   "cell_type": "code",
   "execution_count": null,
   "id": "0029b80a",
   "metadata": {},
   "outputs": [],
   "source": []
  },
  {
   "cell_type": "code",
   "execution_count": null,
   "id": "bdd9f2db",
   "metadata": {},
   "outputs": [],
   "source": []
  },
  {
   "cell_type": "code",
   "execution_count": 54,
   "id": "85543d0b",
   "metadata": {},
   "outputs": [],
   "source": [
    "############## TRAIN ###############"
   ]
  },
  {
   "cell_type": "code",
   "execution_count": null,
   "id": "1de61d2d",
   "metadata": {},
   "outputs": [],
   "source": [
    "# XGBREGRESSOR"
   ]
  },
  {
   "cell_type": "code",
   "execution_count": 88,
   "id": "b2232586",
   "metadata": {},
   "outputs": [],
   "source": [
    "data_dmatrix = xgb.DMatrix(data=X_train,label=y_train)"
   ]
  },
  {
   "cell_type": "code",
   "execution_count": 95,
   "id": "178a2e13",
   "metadata": {},
   "outputs": [],
   "source": [
    "xg_reg = xgb.XGBRegressor(objective ='reg:linear', colsample_bytree = 0.3, learning_rate = 0.1,\n",
    "                max_depth = 10, alpha = 10, n_estimators = 100)"
   ]
  },
  {
   "cell_type": "code",
   "execution_count": 96,
   "id": "29552009",
   "metadata": {},
   "outputs": [
    {
     "name": "stdout",
     "output_type": "stream",
     "text": [
      "[10:01:41] WARNING: ../src/objective/regression_obj.cu:188: reg:linear is now deprecated in favor of reg:squarederror.\n"
     ]
    },
    {
     "data": {
      "text/plain": [
       "XGBRegressor(alpha=10, base_score=0.5, booster='gbtree', colsample_bylevel=1,\n",
       "             colsample_bynode=1, colsample_bytree=0.3, enable_categorical=False,\n",
       "             gamma=0, gpu_id=-1, importance_type=None,\n",
       "             interaction_constraints='', learning_rate=0.1, max_delta_step=0,\n",
       "             max_depth=10, min_child_weight=1, missing=nan,\n",
       "             monotone_constraints='()', n_estimators=100, n_jobs=12,\n",
       "             num_parallel_tree=1, objective='reg:linear', predictor='auto',\n",
       "             random_state=0, reg_alpha=10, reg_lambda=1, scale_pos_weight=1,\n",
       "             subsample=1, tree_method='exact', validate_parameters=1,\n",
       "             verbosity=None)"
      ]
     },
     "execution_count": 96,
     "metadata": {},
     "output_type": "execute_result"
    }
   ],
   "source": [
    "xg_reg.fit(X_train,y_train)"
   ]
  },
  {
   "cell_type": "code",
   "execution_count": 98,
   "id": "a41652ef",
   "metadata": {},
   "outputs": [],
   "source": [
    "preds_train = xg_reg.predict(X_train)"
   ]
  },
  {
   "cell_type": "code",
   "execution_count": 99,
   "id": "d0d9196c",
   "metadata": {},
   "outputs": [],
   "source": [
    "rmse_train = np.sqrt(mean_squared_error(y_train, preds_train))\n",
    "r2_train = r2_score(y_train, preds_train)"
   ]
  },
  {
   "cell_type": "code",
   "execution_count": 101,
   "id": "d24be845",
   "metadata": {},
   "outputs": [
    {
     "name": "stdout",
     "output_type": "stream",
     "text": [
      "The model performance for the training set\n",
      "-------------------------------------------\n",
      "RMSE of training set is 0.1200863413950946\n",
      "R2 score of training set is 0.7363432913829012\n"
     ]
    }
   ],
   "source": [
    "print(\"The model performance for the training set\")\n",
    "print(\"-------------------------------------------\")\n",
    "print(\"RMSE of training set is {}\".format(rmse_train))\n",
    "print(\"R2 score of training set is {}\".format(r2_train))"
   ]
  },
  {
   "cell_type": "code",
   "execution_count": null,
   "id": "15d9be17",
   "metadata": {},
   "outputs": [],
   "source": []
  },
  {
   "cell_type": "code",
   "execution_count": null,
   "id": "c522398a",
   "metadata": {},
   "outputs": [],
   "source": []
  },
  {
   "cell_type": "code",
   "execution_count": null,
   "id": "bc446f6b",
   "metadata": {},
   "outputs": [],
   "source": []
  },
  {
   "cell_type": "code",
   "execution_count": null,
   "id": "b7c91f21",
   "metadata": {},
   "outputs": [],
   "source": [
    "# Regression "
   ]
  },
  {
   "cell_type": "code",
   "execution_count": 66,
   "id": "215a745a",
   "metadata": {},
   "outputs": [
    {
     "data": {
      "text/plain": [
       "LinearRegression()"
      ]
     },
     "execution_count": 66,
     "metadata": {},
     "output_type": "execute_result"
    }
   ],
   "source": [
    "model_poly = LinearRegression()\n",
    "model_poly.fit(X_train, y_train)"
   ]
  },
  {
   "cell_type": "code",
   "execution_count": 68,
   "id": "31a3b4a8",
   "metadata": {},
   "outputs": [],
   "source": [
    "# predicting on training data-set\n",
    "y_train_predicted = model_poly.predict(X_train)\n",
    "  \n",
    "# evaluating the model on training dataset\n",
    "rmse_train = np.sqrt(mean_squared_error(y_train, y_train_predicted))\n",
    "r2_train = r2_score(y_train, y_train_predicted)"
   ]
  },
  {
   "cell_type": "code",
   "execution_count": 91,
   "id": "9903c356",
   "metadata": {},
   "outputs": [
    {
     "name": "stdout",
     "output_type": "stream",
     "text": [
      "The model performance for the training set\n",
      "-------------------------------------------\n",
      "RMSE of training set is 0.12756438791926095\n",
      "R2 score of training set is 0.7024838824135045\n"
     ]
    }
   ],
   "source": [
    "print(\"The model performance for the training set\")\n",
    "print(\"-------------------------------------------\")\n",
    "print(\"RMSE of training set is {}\".format(rmse_train))\n",
    "print(\"R2 score of training set is {}\".format(r2_train))"
   ]
  },
  {
   "cell_type": "code",
   "execution_count": null,
   "id": "bba1588d",
   "metadata": {},
   "outputs": [],
   "source": []
  },
  {
   "cell_type": "code",
   "execution_count": null,
   "id": "49f0283b",
   "metadata": {},
   "outputs": [],
   "source": [
    "############ Test on validation set ###########"
   ]
  },
  {
   "cell_type": "code",
   "execution_count": null,
   "id": "e5fd40d0",
   "metadata": {},
   "outputs": [],
   "source": [
    "# XGB"
   ]
  },
  {
   "cell_type": "code",
   "execution_count": 102,
   "id": "2071d709",
   "metadata": {},
   "outputs": [],
   "source": [
    "# predicting on validation data-set\n",
    "preds_validation = xg_reg.predict(X_validation)"
   ]
  },
  {
   "cell_type": "code",
   "execution_count": 105,
   "id": "d437a37e",
   "metadata": {},
   "outputs": [],
   "source": [
    "rmse_validation_xgb = np.sqrt(mean_squared_error(y_validation, preds_validation))\n",
    "r2_validation_xgb = r2_score(y_validation, preds_validation)"
   ]
  },
  {
   "cell_type": "code",
   "execution_count": 112,
   "id": "d697f841",
   "metadata": {},
   "outputs": [
    {
     "name": "stdout",
     "output_type": "stream",
     "text": [
      "The Regression model performance for the validation set\n",
      "-------------------------------------------\n",
      "RMSE of validation set is 0.14894556347957036\n",
      "R2 score of validation set is 0.6308148012113435\n"
     ]
    }
   ],
   "source": [
    "print(\"The XGB model performance for the validation set\")\n",
    "print(\"-------------------------------------------\")\n",
    "print(\"RMSE of validation set is {}\".format(rmse_validation_xgb))\n",
    "print(\"R2 score of validation set is {}\".format(r2_validation_xgb))"
   ]
  },
  {
   "cell_type": "code",
   "execution_count": null,
   "id": "81dea2a0",
   "metadata": {},
   "outputs": [],
   "source": []
  },
  {
   "cell_type": "code",
   "execution_count": null,
   "id": "1232f597",
   "metadata": {},
   "outputs": [],
   "source": [
    "# Regression"
   ]
  },
  {
   "cell_type": "code",
   "execution_count": 110,
   "id": "47938bf2",
   "metadata": {},
   "outputs": [],
   "source": [
    "# predicting on validation data-set\n",
    "y_validation_predict = model_poly.predict(X_validation)\n",
    "\n",
    "# evaluating the model on test dataset\n",
    "rmse_validation = np.sqrt(mean_squared_error(y_validation, y_validation_predict))\n",
    "r2_validation = r2_score(y_validation, y_validation_predict)\n"
   ]
  },
  {
   "cell_type": "code",
   "execution_count": 111,
   "id": "7c598854",
   "metadata": {},
   "outputs": [
    {
     "name": "stdout",
     "output_type": "stream",
     "text": [
      "The Regression model performance for the validation set\n",
      "-------------------------------------------\n",
      "RMSE of validation set is 0.13913420705305932\n",
      "R2 score of validation set is 0.6778508630953868\n"
     ]
    }
   ],
   "source": [
    "\n",
    "print(\"The Regression model performance for the validation set\")\n",
    "print(\"-------------------------------------------\")\n",
    "print(\"RMSE of validation set is {}\".format(rmse_validation))\n",
    "print(\"R2 score of validation set is {}\".format(r2_validation))"
   ]
  },
  {
   "cell_type": "code",
   "execution_count": null,
   "id": "c5b0570a",
   "metadata": {},
   "outputs": [],
   "source": []
  },
  {
   "cell_type": "code",
   "execution_count": null,
   "id": "b4ff2ca1",
   "metadata": {},
   "outputs": [],
   "source": []
  },
  {
   "cell_type": "code",
   "execution_count": null,
   "id": "73898da5",
   "metadata": {},
   "outputs": [],
   "source": [
    "### It seems that looking at the RMSE and the R2 combined th best model will be xgboost"
   ]
  },
  {
   "cell_type": "code",
   "execution_count": 116,
   "id": "21f360ac",
   "metadata": {},
   "outputs": [],
   "source": [
    "# predicting on validation data-set\n",
    "preds_test = xg_reg.predict(X_test)"
   ]
  },
  {
   "cell_type": "code",
   "execution_count": 117,
   "id": "02edf85b",
   "metadata": {},
   "outputs": [],
   "source": [
    "rmse_test_xgb = np.sqrt(mean_squared_error(y_test, preds_test))\n",
    "r2_test_xgb = r2_score(y_test, preds_test)"
   ]
  },
  {
   "cell_type": "code",
   "execution_count": 118,
   "id": "30f92b2d",
   "metadata": {},
   "outputs": [
    {
     "name": "stdout",
     "output_type": "stream",
     "text": [
      "The XGB model performance for the validation set\n",
      "-------------------------------------------\n",
      "RMSE of validation set is 0.1325612839497887\n",
      "R2 score of validation set is 0.6345403012178246\n"
     ]
    }
   ],
   "source": [
    "print(\"The XGB model performance for the validation set\")\n",
    "print(\"-------------------------------------------\")\n",
    "print(\"RMSE of validation set is {}\".format(rmse_test_xgb))\n",
    "print(\"R2 score of validation set is {}\".format(r2_test_xgb))"
   ]
  },
  {
   "cell_type": "code",
   "execution_count": null,
   "id": "f7d93489",
   "metadata": {},
   "outputs": [],
   "source": []
  }
 ],
 "metadata": {
  "kernelspec": {
   "display_name": "Python 3",
   "language": "python",
   "name": "python3"
  },
  "language_info": {
   "codemirror_mode": {
    "name": "ipython",
    "version": 3
   },
   "file_extension": ".py",
   "mimetype": "text/x-python",
   "name": "python",
   "nbconvert_exporter": "python",
   "pygments_lexer": "ipython3",
   "version": "3.6.13"
  }
 },
 "nbformat": 4,
 "nbformat_minor": 5
}
